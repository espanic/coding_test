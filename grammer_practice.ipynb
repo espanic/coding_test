{
 "cells": [
  {
   "cell_type": "code",
   "execution_count": 3,
   "metadata": {},
   "outputs": [
    {
     "name": "stdout",
     "output_type": "stream",
     "text": [
      "[1, 2]\n"
     ]
    }
   ],
   "source": [
    "a = [1]\n",
    "b = [2]\n",
    "a.extend(b)\n",
    "print(a)"
   ]
  },
  {
   "cell_type": "code",
   "execution_count": 13,
   "metadata": {},
   "outputs": [],
   "source": [
    "from enum import Enum\n",
    "class Direction(Enum):\n",
    "    north = 0\n",
    "    west = 1\n",
    "    south = 2\n",
    "    east = 3\n",
    "    def change_val(self, a):\n",
    "        self."
   ]
  },
  {
   "cell_type": "code",
   "execution_count": 14,
   "metadata": {},
   "outputs": [
    {
     "ename": "AttributeError",
     "evalue": "<enum 'Enum'> cannot set attribute 'name'",
     "output_type": "error",
     "traceback": [
      "\u001b[0;31m---------------------------------------------------------------------------\u001b[0m",
      "\u001b[0;31mAttributeError\u001b[0m                            Traceback (most recent call last)",
      "Cell \u001b[0;32mIn[14], line 2\u001b[0m\n\u001b[1;32m      1\u001b[0m a \u001b[39m=\u001b[39m Direction\u001b[39m.\u001b[39meast\n\u001b[0;32m----> 2\u001b[0m a\u001b[39m.\u001b[39;49mchange_val(\u001b[39m2\u001b[39;49m)\n",
      "Cell \u001b[0;32mIn[13], line 8\u001b[0m, in \u001b[0;36mDirection.change_val\u001b[0;34m(self, a)\u001b[0m\n\u001b[1;32m      7\u001b[0m \u001b[39mdef\u001b[39;00m \u001b[39mchange_val\u001b[39m(\u001b[39mself\u001b[39m, a):\n\u001b[0;32m----> 8\u001b[0m     \u001b[39mself\u001b[39;49m\u001b[39m.\u001b[39;49mname \u001b[39m=\u001b[39m Direction\u001b[39m.\u001b[39mnorth\n",
      "File \u001b[0;32m/Library/Frameworks/Python.framework/Versions/3.11/lib/python3.11/enum.py:210\u001b[0m, in \u001b[0;36mproperty.__set__\u001b[0;34m(self, instance, value)\u001b[0m\n\u001b[1;32m    208\u001b[0m \u001b[39mdef\u001b[39;00m \u001b[39m__set__\u001b[39m(\u001b[39mself\u001b[39m, instance, value):\n\u001b[1;32m    209\u001b[0m     \u001b[39mif\u001b[39;00m \u001b[39mself\u001b[39m\u001b[39m.\u001b[39mfset \u001b[39mis\u001b[39;00m \u001b[39mNone\u001b[39;00m:\n\u001b[0;32m--> 210\u001b[0m         \u001b[39mraise\u001b[39;00m \u001b[39mAttributeError\u001b[39;00m(\n\u001b[1;32m    211\u001b[0m                 \u001b[39m\"\u001b[39m\u001b[39m<enum \u001b[39m\u001b[39m%r\u001b[39;00m\u001b[39m> cannot set attribute \u001b[39m\u001b[39m%r\u001b[39;00m\u001b[39m\"\u001b[39m \u001b[39m%\u001b[39m (\u001b[39mself\u001b[39m\u001b[39m.\u001b[39mclsname, \u001b[39mself\u001b[39m\u001b[39m.\u001b[39mname)\n\u001b[1;32m    212\u001b[0m                 )\n\u001b[1;32m    213\u001b[0m     \u001b[39melse\u001b[39;00m:\n\u001b[1;32m    214\u001b[0m         \u001b[39mreturn\u001b[39;00m \u001b[39mself\u001b[39m\u001b[39m.\u001b[39mfset(instance, value)\n",
      "\u001b[0;31mAttributeError\u001b[0m: <enum 'Enum'> cannot set attribute 'name'"
     ]
    }
   ],
   "source": [
    "a = Direction.east\n",
    "a.change_val(2)"
   ]
  },
  {
   "cell_type": "code",
   "execution_count": 2,
   "metadata": {},
   "outputs": [
    {
     "name": "stdout",
     "output_type": "stream",
     "text": [
      "[1]\n"
     ]
    }
   ],
   "source": [
    "a = []\n",
    "b = [1]\n",
    "a.extend(b)\n",
    "b.clear()\n",
    "print(a)"
   ]
  },
  {
   "cell_type": "code",
   "execution_count": null,
   "metadata": {},
   "outputs": [],
   "source": []
  }
 ],
 "metadata": {
  "kernelspec": {
   "display_name": "Python 3",
   "language": "python",
   "name": "python3"
  },
  "language_info": {
   "codemirror_mode": {
    "name": "ipython",
    "version": 3
   },
   "file_extension": ".py",
   "mimetype": "text/x-python",
   "name": "python",
   "nbconvert_exporter": "python",
   "pygments_lexer": "ipython3",
   "version": "3.11.1"
  },
  "orig_nbformat": 4,
  "vscode": {
   "interpreter": {
    "hash": "aee8b7b246df8f9039afb4144a1f6fd8d2ca17a180786b69acc140d282b71a49"
   }
  }
 },
 "nbformat": 4,
 "nbformat_minor": 2
}
